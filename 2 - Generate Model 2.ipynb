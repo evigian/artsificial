{
 "cells": [
  {
   "cell_type": "markdown",
   "metadata": {
    "colab_type": "text",
    "id": "zxPSI7gIZTZg"
   },
   "source": [
    "### Libraries"
   ]
  },
  {
   "cell_type": "code",
   "execution_count": 1,
   "metadata": {
    "ExecuteTime": {
     "end_time": "2020-02-25T19:32:18.774935Z",
     "start_time": "2020-02-25T19:32:18.150274Z"
    },
    "colab": {},
    "colab_type": "code",
    "id": "lfc13H0uAyNh"
   },
   "outputs": [],
   "source": [
    "import torch\n",
    "import torch.nn as nn"
   ]
  },
  {
   "cell_type": "markdown",
   "metadata": {},
   "source": [
    "### Network Architecture"
   ]
  },
  {
   "cell_type": "code",
   "execution_count": 2,
   "metadata": {
    "ExecuteTime": {
     "end_time": "2020-02-25T19:32:19.157952Z",
     "start_time": "2020-02-25T19:32:19.142912Z"
    },
    "colab": {},
    "colab_type": "code",
    "id": "viWM91XrAyN_"
   },
   "outputs": [],
   "source": [
    "class net(nn.Module):\n",
    "    def __init__(self):\n",
    "        super(net, self).__init__()\n",
    "\n",
    "        self.ln1 = nn.Linear(10, 32, bias=True)\n",
    "        self.ln2 = nn.Linear(32, 32, bias=True)\n",
    "        self.ln3 = nn.Linear(32, 32, bias=True)\n",
    "        self.ln4 = nn.Linear(32, 32, bias=True)\n",
    "        self.ln5 = nn.Linear(32, 3, bias=False)\n",
    "\n",
    "        nn.init.uniform_(self.ln1.weight, a=-1, b=1)\n",
    "        nn.init.uniform_(self.ln2.weight, a=-1, b=1)\n",
    "\n",
    "        nn.init.normal_(self.ln3.weight)\n",
    "        nn.init.normal_(self.ln4.weight)\n",
    "        nn.init.normal_(self.ln5.weight)\n",
    "\n",
    "        self.tanh1 = nn.Tanh()\n",
    "        self.tanh2 = nn.Tanh()\n",
    "        self.tanh3 = nn.Tanh()\n",
    "        self.tanh4 = nn.Tanh()\n",
    "        self.sigmoid = nn.Sigmoid()\n",
    "\n",
    "    def forward(self, x):\n",
    "        U = self.ln1(x)\n",
    "        U = self.tanh1(U)\n",
    "\n",
    "        U = self.ln2(U)\n",
    "        U = self.tanh2(U)\n",
    "\n",
    "        U = self.ln3(U)\n",
    "        U = self.tanh3(U)\n",
    "\n",
    "        U = self.ln4(U)\n",
    "        U = self.tanh4(U)\n",
    "\n",
    "        U = self.ln5(U)\n",
    "        return self.sigmoid(U)"
   ]
  },
  {
   "cell_type": "code",
   "execution_count": 3,
   "metadata": {
    "ExecuteTime": {
     "end_time": "2020-02-25T19:32:20.264893Z",
     "start_time": "2020-02-25T19:32:19.929002Z"
    },
    "colab": {},
    "colab_type": "code",
    "id": "z1xKL9W9EsnV"
   },
   "outputs": [],
   "source": [
    "G = net()"
   ]
  },
  {
   "cell_type": "markdown",
   "metadata": {
    "colab_type": "text",
    "id": "_PDLgzUQVmfC"
   },
   "source": [
    "### Exporting the model from PyTorch to ONNX"
   ]
  },
  {
   "cell_type": "code",
   "execution_count": 4,
   "metadata": {
    "ExecuteTime": {
     "end_time": "2020-02-25T19:32:24.200355Z",
     "start_time": "2020-02-25T19:32:22.351441Z"
    },
    "colab": {},
    "colab_type": "code",
    "id": "gCPl3YKfVl1h"
   },
   "outputs": [],
   "source": [
    "dummy_input = torch.randn(1, 10)  # same size as input\n",
    "torch.onnx.export(G, dummy_input, \"ppn-model-2.onnx\")"
   ]
  }
 ],
 "metadata": {
  "accelerator": "GPU",
  "colab": {
   "name": "Copy of Generate Arts from GitHib.ipynb",
   "provenance": []
  },
  "kernelspec": {
   "display_name": "Python 3",
   "language": "python",
   "name": "python3"
  },
  "language_info": {
   "codemirror_mode": {
    "name": "ipython",
    "version": 3
   },
   "file_extension": ".py",
   "mimetype": "text/x-python",
   "name": "python",
   "nbconvert_exporter": "python",
   "pygments_lexer": "ipython3",
   "version": "3.7.1"
  },
  "toc": {
   "base_numbering": 1,
   "nav_menu": {},
   "number_sections": true,
   "sideBar": true,
   "skip_h1_title": false,
   "title_cell": "Table of Contents",
   "title_sidebar": "Contents",
   "toc_cell": false,
   "toc_position": {},
   "toc_section_display": true,
   "toc_window_display": false
  },
  "varInspector": {
   "cols": {
    "lenName": 16,
    "lenType": 16,
    "lenVar": 40
   },
   "kernels_config": {
    "python": {
     "delete_cmd_postfix": "",
     "delete_cmd_prefix": "del ",
     "library": "var_list.py",
     "varRefreshCmd": "print(var_dic_list())"
    },
    "r": {
     "delete_cmd_postfix": ") ",
     "delete_cmd_prefix": "rm(",
     "library": "var_list.r",
     "varRefreshCmd": "cat(var_dic_list()) "
    }
   },
   "types_to_exclude": [
    "module",
    "function",
    "builtin_function_or_method",
    "instance",
    "_Feature"
   ],
   "window_display": false
  }
 },
 "nbformat": 4,
 "nbformat_minor": 1
}
