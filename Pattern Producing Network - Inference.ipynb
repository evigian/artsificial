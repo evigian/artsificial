{
 "cells": [
  {
   "cell_type": "markdown",
   "metadata": {},
   "source": [
    "### Loading the required libraries"
   ]
  },
  {
   "cell_type": "code",
   "execution_count": 1,
   "metadata": {
    "ExecuteTime": {
     "end_time": "2020-02-21T18:26:59.953515Z",
     "start_time": "2020-02-21T18:26:59.135212Z"
    }
   },
   "outputs": [],
   "source": [
    "import os\n",
    "import sys\n",
    "import cv2\n",
    "import math\n",
    "import torch\n",
    "import numpy as np\n",
    "import logging as log\n",
    "import matplotlib.pyplot as plt\n",
    "from openvino.inference_engine import IENetwork, IECore"
   ]
  },
  {
   "cell_type": "markdown",
   "metadata": {},
   "source": [
    "### Class for working with the Inference Engine"
   ]
  },
  {
   "cell_type": "code",
   "execution_count": 2,
   "metadata": {
    "ExecuteTime": {
     "end_time": "2020-02-21T18:26:59.972684Z",
     "start_time": "2020-02-21T18:26:59.957101Z"
    }
   },
   "outputs": [],
   "source": [
    "class Network:\n",
    "    '''\n",
    "    Load and store information for working with the Inference Engine,\n",
    "    and any loaded models.\n",
    "    '''\n",
    "\n",
    "    def __init__(self):\n",
    "        self.plugin = None\n",
    "        self.network = None\n",
    "        self.input_blob = None\n",
    "        self.output_blob = None\n",
    "        self.exec_network = None\n",
    "        self.infer_request = None\n",
    "\n",
    "    def load_model(self, model, device=\"CPU\", cpu_extension=None):\n",
    "        '''\n",
    "        Load the model given IR files.\n",
    "        Defaults to CPU as device for use in the workspace.\n",
    "        Synchronous requests made within.\n",
    "        '''\n",
    "        model_xml = model\n",
    "        model_bin = os.path.splitext(model_xml)[0] + \".bin\"\n",
    "\n",
    "        # Initialize the plugin\n",
    "        self.plugin = IECore()\n",
    "\n",
    "        # Add a CPU extension, if applicable\n",
    "        if cpu_extension and \"CPU\" in device:\n",
    "            self.plugin.add_extension(cpu_extension, device)\n",
    "\n",
    "        # Read the IR as a IENetwork\n",
    "        self.network = IENetwork(model=model_xml, weights=model_bin)\n",
    "\n",
    "        # Load the IENetwork into the plugin\n",
    "        self.exec_network = self.plugin.load_network(self.network, device)\n",
    "\n",
    "        # Get the input layer\n",
    "        self.input_blob = next(iter(self.network.inputs))\n",
    "        self.output_blob = next(iter(self.network.outputs))\n",
    "\n",
    "        return\n",
    "\n",
    "    def get_input_shape(self):\n",
    "        '''\n",
    "        Gets the input shape of the network\n",
    "        '''\n",
    "        return self.network.inputs[self.input_blob].shape\n",
    "\n",
    "    def async_inference(self, image):\n",
    "        '''\n",
    "        Makes an asynchronous inference request, given an input image.\n",
    "        '''\n",
    "        self.exec_network.start_async(\n",
    "            request_id=0, inputs={self.input_blob: image})\n",
    "        return\n",
    "\n",
    "    def wait(self):\n",
    "        '''\n",
    "        Checks the status of the inference request.\n",
    "        '''\n",
    "        status = self.exec_network.requests[0].wait(-1)\n",
    "        return status\n",
    "\n",
    "    def extract_output(self):\n",
    "        '''\n",
    "        Returns a list of the results for the output layer of the network.\n",
    "        '''\n",
    "        return self.exec_network.requests[0].outputs[self.output_blob]"
   ]
  },
  {
   "cell_type": "markdown",
   "metadata": {
    "ExecuteTime": {
     "end_time": "2020-02-21T17:50:04.551160Z",
     "start_time": "2020-02-21T17:50:04.547649Z"
    }
   },
   "source": [
    "### Initialize the Inference Engine"
   ]
  },
  {
   "cell_type": "code",
   "execution_count": 3,
   "metadata": {
    "ExecuteTime": {
     "end_time": "2020-02-21T18:27:00.127330Z",
     "start_time": "2020-02-21T18:26:59.974962Z"
    }
   },
   "outputs": [],
   "source": [
    "plugin = Network()"
   ]
  },
  {
   "cell_type": "markdown",
   "metadata": {
    "ExecuteTime": {
     "end_time": "2020-02-21T17:50:04.866721Z",
     "start_time": "2020-02-21T17:50:04.810783Z"
    }
   },
   "source": [
    "### Load the network model into the IE"
   ]
  },
  {
   "cell_type": "code",
   "execution_count": 4,
   "metadata": {
    "ExecuteTime": {
     "end_time": "2020-02-21T18:27:00.394961Z",
     "start_time": "2020-02-21T18:27:00.133345Z"
    }
   },
   "outputs": [],
   "source": [
    "plugin.load_model(\"ppn_onnx_model.xml\", \"CPU\")"
   ]
  },
  {
   "cell_type": "markdown",
   "metadata": {
    "ExecuteTime": {
     "end_time": "2020-02-21T17:50:05.043247Z",
     "start_time": "2020-02-21T17:50:05.037264Z"
    }
   },
   "source": [
    "### Check the input shape"
   ]
  },
  {
   "cell_type": "code",
   "execution_count": 5,
   "metadata": {
    "ExecuteTime": {
     "end_time": "2020-02-21T18:27:00.509924Z",
     "start_time": "2020-02-21T18:27:00.398975Z"
    }
   },
   "outputs": [
    {
     "name": "stdout",
     "output_type": "stream",
     "text": [
      "[1, 10]\n"
     ]
    }
   ],
   "source": [
    "net_input_shape = plugin.get_input_shape()\n",
    "print(net_input_shape)"
   ]
  },
  {
   "cell_type": "markdown",
   "metadata": {},
   "source": [
    "### Creating input"
   ]
  },
  {
   "cell_type": "code",
   "execution_count": 7,
   "metadata": {
    "ExecuteTime": {
     "end_time": "2020-02-21T18:27:01.013798Z",
     "start_time": "2020-02-21T18:27:01.010289Z"
    }
   },
   "outputs": [],
   "source": [
    "img_size = 500\n",
    "scale = 0.3\n",
    "z_size = 7\n",
    "num_images = 2"
   ]
  },
  {
   "cell_type": "code",
   "execution_count": 6,
   "metadata": {
    "ExecuteTime": {
     "end_time": "2020-02-21T18:27:00.599860Z",
     "start_time": "2020-02-21T18:27:00.514938Z"
    }
   },
   "outputs": [],
   "source": [
    "def createInputVec(z, x, y):\n",
    "    r = math.sqrt(((x * scale - (img_size * scale / 2))**2) + (\n",
    "        (y * scale - (img_size * scale / 2))**2))\n",
    "    z_size = len(z)\n",
    "    input = torch.rand(1, z_size + 3)\n",
    "\n",
    "    for i in range(z_size):\n",
    "        input[0][i] = z[i] * scale\n",
    "\n",
    "    input[0][z_size] = x * scale\n",
    "    input[0][z_size + 1] = y * scale\n",
    "    input[0][z_size + 2] = r\n",
    "    return input"
   ]
  }
 ],
 "metadata": {
  "kernelspec": {
   "display_name": "Python 3",
   "language": "python",
   "name": "python3"
  },
  "language_info": {
   "codemirror_mode": {
    "name": "ipython",
    "version": 3
   },
   "file_extension": ".py",
   "mimetype": "text/x-python",
   "name": "python",
   "nbconvert_exporter": "python",
   "pygments_lexer": "ipython3",
   "version": "3.7.1"
  }
 },
 "nbformat": 4,
 "nbformat_minor": 2
}
